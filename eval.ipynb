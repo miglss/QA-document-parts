{
 "cells": [
  {
   "cell_type": "code",
   "execution_count": null,
   "id": "c90dfb14-29d5-4826-9adf-dbaa96d9f0f1",
   "metadata": {},
   "outputs": [],
   "source": [
    "import os\n",
    "import yaml\n",
    "import shutil\n",
    "import collections\n",
    "import numpy as np\n",
    "import pandas as pd\n",
    "import seaborn as sns\n",
    "from tqdm.auto import tqdm\n",
    "\n",
    "from sklearn.model_selection import train_test_split\n",
    "\n",
    "import wandb\n",
    "import torch\n",
    "\n",
    "import transformers\n",
    "from transformers import AutoTokenizer\n",
    "from transformers import AutoModelForQuestionAnswering\n",
    "from transformers import TrainingArguments, Trainer\n",
    "from transformers import default_data_collator\n",
    "from transformers import set_seed\n",
    "\n",
    "# custom functions from my repo\n",
    "%cd QA-document-parts\n",
    "from custom_functions.functions import find_labels, preprocess_training_examples, preprocess_validation_examples, postprocess_predictions\n",
    "%cd ..\n",
    "\n",
    "from datasets import load_dataset, load_metric, Dataset"
   ]
  },
  {
   "cell_type": "code",
   "execution_count": null,
   "id": "6d5f921e-9fce-4acf-ba5f-e89c396ac1ee",
   "metadata": {},
   "outputs": [],
   "source": [
    "tokenizer = AutoTokenizer.from_pretrained(\"miglss/mdeberta-v3-base-konturDS\")\n",
    "\n",
    "model = AutoModelForQuestionAnswering.from_pretrained(\"miglss/mdeberta-v3-base-konturDS\")"
   ]
  },
  {
   "cell_type": "code",
   "execution_count": null,
   "id": "3002644f-4674-472a-9e56-2a28a52c46ba",
   "metadata": {},
   "outputs": [],
   "source": [
    "dataset_pred = load_dataset('json', data_files='test.json')\n",
    "\n",
    "tokenized_predict = dataset_pred['train'].map(\n",
    "    prepare_validation_features, \n",
    "    batched=True, \n",
    "    remove_columns=dataset_pred['train'].column_names)"
   ]
  },
  {
   "cell_type": "code",
   "execution_count": null,
   "id": "d094b475-99de-4260-909d-f23c07427d30",
   "metadata": {},
   "outputs": [],
   "source": [
    "trainer = Trainer(\n",
    "        model,\n",
    "        data_collator=default_data_collator,\n",
    "        tokenizer=tokenizer\n",
    ")\n",
    "\n",
    "raw_predictions = trainer.predict(tokenized_predict)"
   ]
  },
  {
   "cell_type": "code",
   "execution_count": null,
   "id": "8dc3bbf7-d92f-4314-9391-cb529d33e864",
   "metadata": {},
   "outputs": [],
   "source": [
    "# choosing possible and best answer\n",
    "final_pred = postprocess_predictions(dataset_pred['train'],\n",
    "                                     tokenized_predict,\n",
    "                                     raw_predictions.predictions,\n",
    "                                     n_best_size = 100,\n",
    "                                     max_answer_length = 100)\n",
    "\n",
    "# format predictions and targets for calculating metric\n",
    "formatted_pred = [{\"id\": k, \n",
    "                   \"prediction_text\": v, \n",
    "                   \"no_answer_probability\": 0.0} for k, v in final_pred.items()]"
   ]
  },
  {
   "cell_type": "code",
   "execution_count": null,
   "id": "4827e5d7-4d1c-42e9-a9b5-36e34c78fc17",
   "metadata": {},
   "outputs": [],
   "source": [
    "extract = []\n",
    "for i, pred in enumerate(formatted_pred):\n",
    "    start = dataset_pred['train']['text'][i].find(pred['prediction_text'])\n",
    "    end = start + len(formatted_pred[0]['prediction_text'])\n",
    "    extract.append({'text': [pred['prediction_text']],\n",
    "                    'answer_start': [start],\n",
    "                     'answer_end': [end]})"
   ]
  },
  {
   "cell_type": "code",
   "execution_count": null,
   "id": "359a3d26-7cee-4597-bc6f-b387e3a2053a",
   "metadata": {},
   "outputs": [],
   "source": [
    "final_predict = dataset_pred['train'].add_column(\"extracted_part\", extract)\n",
    "final_predict.to_json('predictions.json')"
   ]
  }
 ],
 "metadata": {
  "kernelspec": {
   "display_name": "Python 3 (ipykernel)",
   "language": "python",
   "name": "python3"
  },
  "language_info": {
   "codemirror_mode": {
    "name": "ipython",
    "version": 3
   },
   "file_extension": ".py",
   "mimetype": "text/x-python",
   "name": "python",
   "nbconvert_exporter": "python",
   "pygments_lexer": "ipython3",
   "version": "3.9.13"
  }
 },
 "nbformat": 4,
 "nbformat_minor": 5
}
